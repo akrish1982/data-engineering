{
 "cells": [
  {
   "cell_type": "code",
   "execution_count": 3,
   "metadata": {},
   "outputs": [
    {
     "name": "stderr",
     "output_type": "stream",
     "text": [
      "24/03/02 09:41:36 WARN SparkContext: Another SparkContext is being constructed (or threw an exception in its constructor). This may indicate an error, since only one SparkContext should be running in this JVM (see SPARK-2243). The other SparkContext was created at:\n",
      "org.apache.spark.api.java.JavaSparkContext.<init>(JavaSparkContext.scala:58)\n",
      "java.base/jdk.internal.reflect.NativeConstructorAccessorImpl.newInstance0(Native Method)\n",
      "java.base/jdk.internal.reflect.NativeConstructorAccessorImpl.newInstance(NativeConstructorAccessorImpl.java:75)\n",
      "java.base/jdk.internal.reflect.DelegatingConstructorAccessorImpl.newInstance(DelegatingConstructorAccessorImpl.java:53)\n",
      "java.base/java.lang.reflect.Constructor.newInstanceWithCaller(Constructor.java:502)\n",
      "java.base/java.lang.reflect.Constructor.newInstance(Constructor.java:486)\n",
      "py4j.reflection.MethodInvoker.invoke(MethodInvoker.java:247)\n",
      "py4j.reflection.ReflectionEngine.invoke(ReflectionEngine.java:374)\n",
      "py4j.Gateway.invoke(Gateway.java:238)\n",
      "py4j.commands.ConstructorCommand.invokeConstructor(ConstructorCommand.java:80)\n",
      "py4j.commands.ConstructorCommand.execute(ConstructorCommand.java:69)\n",
      "py4j.ClientServerConnection.waitForCommands(ClientServerConnection.java:182)\n",
      "py4j.ClientServerConnection.run(ClientServerConnection.java:106)\n",
      "java.base/java.lang.Thread.run(Thread.java:1583)\n"
     ]
    },
    {
     "name": "stderr",
     "output_type": "stream",
     "text": [
      "24/03/02 09:41:47 WARN GarbageCollectionMetrics: To enable non-built-in garbage collector(s) List(G1 Concurrent GC), users should configure it(them) to spark.eventLog.gcMetrics.youngGenerationGarbageCollectors or spark.eventLog.gcMetrics.oldGenerationGarbageCollectors\n"
     ]
    }
   ],
   "source": [
    "# Import SparkSession\n",
    "from pyspark.sql import SparkSession\n",
    "\n",
    "# Create SparkSession \n",
    "spark = SparkSession.builder \\\n",
    "      .master(\"local[1]\") \\\n",
    "      .appName(\"demoapp\") \\\n",
    "      .getOrCreate()\n"
   ]
  },
  {
   "cell_type": "code",
   "execution_count": 5,
   "metadata": {},
   "outputs": [],
   "source": [
    "# Create RDD from parallelize    \n",
    "dataList = [(\"Java\", 20000), (\"Python\", 100000), (\"Scala\", 3000)]\n",
    "rdd=spark.sparkContext.parallelize(dataList)"
   ]
  },
  {
   "cell_type": "code",
   "execution_count": 17,
   "metadata": {},
   "outputs": [],
   "source": [
    "# Create RDD from external Data source\n",
    "rdd2 = spark.sparkContext.textFile(\"../../Overview-06182023.csv\")"
   ]
  },
  {
   "cell_type": "code",
   "execution_count": 18,
   "metadata": {},
   "outputs": [
    {
     "data": {
      "text/plain": [
       "3"
      ]
     },
     "execution_count": 18,
     "metadata": {},
     "output_type": "execute_result"
    }
   ],
   "source": [
    "rdd.count()"
   ]
  },
  {
   "cell_type": "code",
   "execution_count": 19,
   "metadata": {},
   "outputs": [
    {
     "data": {
      "text/plain": [
       "812"
      ]
     },
     "execution_count": 19,
     "metadata": {},
     "output_type": "execute_result"
    }
   ],
   "source": [
    "rdd2.distinct().count()"
   ]
  },
  {
   "cell_type": "code",
   "execution_count": 12,
   "metadata": {},
   "outputs": [
    {
     "data": {
      "text/plain": [
       "[',No.,Ticker,Company,Sector,Industry,Country,Market Cap,P/E,Price,Change,Volume',\n",
       " '0,1,A,\"Agilent Technologies, Inc.\",Healthcare,Diagnostics & Research,USA,35.81B,26.67,121.13,-0.08%,3939930',\n",
       " '1,2,AAL,American Airlines Group Inc.,Industrials,Airlines,USA,10.87B,6.24,16.48,-1.02%,22625167',\n",
       " '2,3,AAPL,Apple Inc.,Technology,Consumer Electronics,USA,2925.70B,31.42,184.92,-0.59%,95747006',\n",
       " '3,4,ABBV,AbbVie Inc.,Healthcare,Drug Manufacturers - General,USA,239.75B,32.71,138.64,2.02%,14593437']"
      ]
     },
     "execution_count": 12,
     "metadata": {},
     "output_type": "execute_result"
    }
   ],
   "source": [
    "rdd2.take(5)"
   ]
  },
  {
   "cell_type": "code",
   "execution_count": 13,
   "metadata": {},
   "outputs": [
    {
     "data": {
      "text/plain": [
       "',No.,Ticker,Company,Sector,Industry,Country,Market Cap,P/E,Price,Change,Volume'"
      ]
     },
     "execution_count": 13,
     "metadata": {},
     "output_type": "execute_result"
    }
   ],
   "source": [
    "rdd2.first()"
   ]
  },
  {
   "cell_type": "code",
   "execution_count": 14,
   "metadata": {},
   "outputs": [],
   "source": [
    "data = [('James','','Smith','1991-04-01','M',3000),\n",
    "  ('Michael','Rose','','2000-05-19','M',4000),\n",
    "  ('Robert','','Williams','1978-09-05','M',4000),\n",
    "  ('Maria','Anne','Jones','1967-12-01','F',4000),\n",
    "  ('Jen','Mary','Brown','1980-02-17','F',-1)\n",
    "]\n",
    "\n",
    "columns = [\"firstname\",\"middlename\",\"lastname\",\"dob\",\"gender\",\"salary\"]\n",
    "df = spark.createDataFrame(data=data, schema = columns)"
   ]
  },
  {
   "cell_type": "code",
   "execution_count": 15,
   "metadata": {},
   "outputs": [
    {
     "name": "stdout",
     "output_type": "stream",
     "text": [
      "root\n",
      " |-- firstname: string (nullable = true)\n",
      " |-- middlename: string (nullable = true)\n",
      " |-- lastname: string (nullable = true)\n",
      " |-- dob: string (nullable = true)\n",
      " |-- gender: string (nullable = true)\n",
      " |-- salary: long (nullable = true)\n",
      "\n"
     ]
    }
   ],
   "source": [
    "df.printSchema()"
   ]
  },
  {
   "cell_type": "code",
   "execution_count": 16,
   "metadata": {},
   "outputs": [
    {
     "name": "stdout",
     "output_type": "stream",
     "text": [
      "+---------+----------+--------+----------+------+------+\n",
      "|firstname|middlename|lastname|       dob|gender|salary|\n",
      "+---------+----------+--------+----------+------+------+\n",
      "|    James|          |   Smith|1991-04-01|     M|  3000|\n",
      "|  Michael|      Rose|        |2000-05-19|     M|  4000|\n",
      "|   Robert|          |Williams|1978-09-05|     M|  4000|\n",
      "|    Maria|      Anne|   Jones|1967-12-01|     F|  4000|\n",
      "|      Jen|      Mary|   Brown|1980-02-17|     F|    -1|\n",
      "+---------+----------+--------+----------+------+------+\n",
      "\n"
     ]
    }
   ],
   "source": [
    "df.show()"
   ]
  },
  {
   "cell_type": "code",
   "execution_count": 28,
   "metadata": {},
   "outputs": [
    {
     "name": "stdout",
     "output_type": "stream",
     "text": [
      "root\n",
      " |-- Num: integer (nullable = true)\n",
      " |-- No.: integer (nullable = true)\n",
      " |-- Ticker: string (nullable = true)\n",
      " |-- Company: string (nullable = true)\n",
      " |-- Sector: string (nullable = true)\n",
      " |-- Industry: string (nullable = true)\n",
      " |-- Country: string (nullable = true)\n",
      " |-- Market Cap: string (nullable = true)\n",
      " |-- P/E: string (nullable = true)\n",
      " |-- Price: double (nullable = true)\n",
      " |-- Change: string (nullable = true)\n",
      " |-- Volume: integer (nullable = true)\n",
      "\n"
     ]
    }
   ],
   "source": [
    "csv_df = spark.read.csv(\"../../Overview-06182023.csv\",header=True, inferSchema=True)\n",
    "csv_df.printSchema()"
   ]
  },
  {
   "cell_type": "code",
   "execution_count": 29,
   "metadata": {},
   "outputs": [
    {
     "name": "stdout",
     "output_type": "stream",
     "text": [
      "+---+---+------+--------------------+------------------+--------------------+-----------+----------+-----+------+------+--------+\n",
      "|Num|No.|Ticker|             Company|            Sector|            Industry|    Country|Market Cap|  P/E| Price|Change|  Volume|\n",
      "+---+---+------+--------------------+------------------+--------------------+-----------+----------+-----+------+------+--------+\n",
      "|  0|  1|     A|Agilent Technolog...|        Healthcare|Diagnostics & Res...|        USA|    35.81B|26.67|121.13|-0.08%| 3939930|\n",
      "|  1|  2|   AAL|American Airlines...|       Industrials|            Airlines|        USA|    10.87B| 6.24| 16.48|-1.02%|22625167|\n",
      "|  2|  3|  AAPL|          Apple Inc.|        Technology|Consumer Electronics|        USA|  2925.70B|31.42|184.92|-0.59%|95747006|\n",
      "|  3|  4|  ABBV|         AbbVie Inc.|        Healthcare|Drug Manufacturer...|        USA|   239.75B|32.71|138.64| 2.02%|14593437|\n",
      "|  4|  5|   ABC|AmerisourceBergen...|        Healthcare|Medical Distribution|        USA|    36.83B|23.51|183.01| 0.62%| 2000327|\n",
      "|  5|  6|  ABEV|          Ambev S.A.|Consumer Defensive| Beverages - Brewers|     Brazil|    49.75B|16.01|  3.09|-1.28%|20356797|\n",
      "|  6|  7|  ABNB|        Airbnb, Inc.| Consumer Cyclical|     Travel Services|        USA|    81.75B|42.88|128.68| 0.65%| 6883826|\n",
      "|  7|  8|   ABT| Abbott Laboratories|        Healthcare|     Medical Devices|        USA|   182.62B|32.19| 106.2| 1.12%|10012623|\n",
      "|  8|  9|  ACGL|Arch Capital Grou...|         Financial|Insurance - Diver...|    Bermuda|    26.13B|13.71| 71.16| 1.44%| 3296161|\n",
      "|  9| 10| ACGLN|Arch Capital Grou...|         Financial|Insurance - Diver...|    Bermuda|    26.50B| 4.18| 19.63|-0.10%|   28769|\n",
      "| 10| 11|   ACI|Albertsons Compan...|Consumer Defensive|      Grocery Stores|        USA|    12.19B| 9.49| 21.37| 0.61%|13976210|\n",
      "| 11| 12|   ACM|               AECOM|       Industrials|Engineering & Con...|        USA|    12.00B|28.58| 86.67| 0.42%| 2080228|\n",
      "| 12| 13|   ACN|       Accenture plc|        Technology|Information Techn...|    Ireland|   204.47B|29.41|319.54|-1.31%| 5259178|\n",
      "| 13| 14|  ADBE|          Adobe Inc.|        Technology|Software - Infras...|        USA|   225.18B|47.28|495.18| 0.87%|13324076|\n",
      "| 14| 15|   ADI|Analog Devices, Inc.|        Technology|      Semiconductors|        USA|    95.10B|26.69|188.36|-0.69%| 6886920|\n",
      "| 15| 16|   ADM|Archer-Daniels-Mi...|Consumer Defensive|       Farm Products|        USA|    40.61B| 9.47| 75.48| 1.23%| 5522403|\n",
      "| 16| 17|   ADP|Automatic Data Pr...|       Industrials|Staffing & Employ...|        USA|    91.29B|28.27|221.32| 0.16%| 3335514|\n",
      "| 17| 18|  ADSK|      Autodesk, Inc.|        Technology|Software - Applic...|        USA|    47.32B|55.38| 213.5|-3.58%| 3287110|\n",
      "| 18| 19|   AEE|  Ameren Corporation|         Utilities|Utilities - Regul...|        USA|    22.05B|20.16| 84.08| 0.13%| 2812984|\n",
      "| 19| 20|   AEG|          Aegon N.V.|         Financial|Insurance - Diver...|Netherlands|    10.29B|    -|  4.79|-2.44%| 1361677|\n",
      "+---+---+------+--------------------+------------------+--------------------+-----------+----------+-----+------+------+--------+\n",
      "only showing top 20 rows\n",
      "\n"
     ]
    }
   ],
   "source": [
    "csv_df.show()"
   ]
  },
  {
   "cell_type": "code",
   "execution_count": null,
   "metadata": {},
   "outputs": [],
   "source": []
  }
 ],
 "metadata": {
  "kernelspec": {
   "display_name": "Python 3",
   "language": "python",
   "name": "python3"
  },
  "language_info": {
   "codemirror_mode": {
    "name": "ipython",
    "version": 3
   },
   "file_extension": ".py",
   "mimetype": "text/x-python",
   "name": "python",
   "nbconvert_exporter": "python",
   "pygments_lexer": "ipython3",
   "version": "3.9.6"
  },
  "orig_nbformat": 4
 },
 "nbformat": 4,
 "nbformat_minor": 2
}
